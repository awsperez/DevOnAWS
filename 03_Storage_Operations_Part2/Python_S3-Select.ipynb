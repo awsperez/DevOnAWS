{
 "cells": [
  {
   "cell_type": "code",
   "execution_count": null,
   "id": "da0c57aa",
   "metadata": {},
   "outputs": [],
   "source": [
    "# Wilmar Perez\n",
    "\n",
    "# Import the Python AWS SDK\n",
    "# https://boto3.amazonaws.com/v1/documentation/api/latest/reference/core/boto3.html\n",
    "\n",
    "import boto3\n",
    "import os\n",
    "import pandas as pd"
   ]
  },
  {
   "cell_type": "code",
   "execution_count": null,
   "id": "d5a5e41d",
   "metadata": {},
   "outputs": [],
   "source": [
    "## config\n",
    "\n",
    "aws_profile = 'LOCAL_PROFILE'\n",
    "aws_service = 's3'\n",
    "aws_bucket = 'RANDOM_BUCKET_NAME'\n",
    "local_dataset = 'dc-wikia-data.csv'\n",
    "object_name = 'myS3dataset.csv'"
   ]
  },
  {
   "cell_type": "code",
   "execution_count": null,
   "id": "de84e63d",
   "metadata": {},
   "outputs": [],
   "source": [
    "# Let's explore the dataset locally\n",
    "# df_local = pd.read_csv(local_dataset)"
   ]
  },
  {
   "cell_type": "code",
   "execution_count": null,
   "id": "99fd35a3",
   "metadata": {},
   "outputs": [],
   "source": [
    "# df_local.head()"
   ]
  },
  {
   "cell_type": "code",
   "execution_count": null,
   "id": "54169da4",
   "metadata": {},
   "outputs": [],
   "source": [
    "# Let's explore the dataset locally\n",
    "df_local = pd.read_csv(local_dataset, \n",
    "                       parse_dates = ['first appearance'], \n",
    "                       dtype = {'page_id': str, 'appearances': str, 'year': str})\n",
    "\n",
    "df_local.head()"
   ]
  },
  {
   "cell_type": "code",
   "execution_count": null,
   "id": "05a7b621",
   "metadata": {},
   "outputs": [],
   "source": [
    "# We need a new session in order to use a profile different to the Default one\n",
    "session = boto3.Session(profile_name = aws_profile)"
   ]
  },
  {
   "cell_type": "code",
   "execution_count": null,
   "id": "f1d3806e",
   "metadata": {},
   "outputs": [],
   "source": [
    "# Create resource and client\n",
    "s3Resource = session.resource(aws_service)\n",
    "s3client = session.client(aws_service)"
   ]
  },
  {
   "cell_type": "code",
   "execution_count": null,
   "id": "f3d51659",
   "metadata": {},
   "outputs": [],
   "source": [
    "# Let's create a bucket\n",
    "s3Resource.Bucket(aws_bucket).create(\n",
    "    CreateBucketConfiguration={\n",
    "        'LocationConstraint': session.region_name\n",
    "    }\n",
    ")"
   ]
  },
  {
   "cell_type": "code",
   "execution_count": null,
   "id": "cdb85a76",
   "metadata": {},
   "outputs": [],
   "source": [
    "# Let's upload a file\n",
    "with open(local_dataset, \"rb\") as file:\n",
    "    s3client.upload_fileobj(file, aws_bucket, object_name)"
   ]
  },
  {
   "cell_type": "code",
   "execution_count": null,
   "id": "ece27248",
   "metadata": {},
   "outputs": [],
   "source": [
    "# Was the file uploaded?\n",
    "s3client.head_object(Bucket = aws_bucket, Key = object_name)"
   ]
  },
  {
   "cell_type": "code",
   "execution_count": null,
   "id": "0c3b4886",
   "metadata": {},
   "outputs": [],
   "source": [
    "# Let's extract only data we need\n",
    "my_query = \"\"\"SELECT * FROM S3Object WHERE year > '1980'\"\"\"\n",
    "\n",
    "query_result = s3client.select_object_content(\n",
    "        Bucket=aws_bucket,\n",
    "        Key=object_name,\n",
    "        ExpressionType=\"SQL\",\n",
    "        Expression=my_query,\n",
    "        InputSerialization={'CSV':{\"FileHeaderInfo\":\"Use\"}},\n",
    "        OutputSerialization={'CSV':{}}\n",
    "    )"
   ]
  },
  {
   "cell_type": "code",
   "execution_count": null,
   "id": "7131d0c4",
   "metadata": {},
   "outputs": [],
   "source": [
    "for record in query_result[\"Payload\"]:\n",
    "    print(record)"
   ]
  },
  {
   "cell_type": "code",
   "execution_count": null,
   "id": "bc40c04b",
   "metadata": {},
   "outputs": [],
   "source": [
    "# Let's extract only data we need\n",
    "my_query = \"\"\"SELECT * FROM S3Object WHERE name like '%superman%'\"\"\"\n",
    "\n",
    "query_result = s3client.select_object_content(\n",
    "        Bucket=aws_bucket,\n",
    "        Key=object_name,\n",
    "        ExpressionType=\"SQL\",\n",
    "        Expression=my_query,\n",
    "        InputSerialization={'CSV':{\"FileHeaderInfo\":\"Use\"}},\n",
    "        OutputSerialization={'CSV':{}}\n",
    "    )"
   ]
  },
  {
   "cell_type": "code",
   "execution_count": null,
   "id": "693949c0",
   "metadata": {},
   "outputs": [],
   "source": [
    "for record in query_result[\"Payload\"]:\n",
    "    print(record)"
   ]
  },
  {
   "cell_type": "code",
   "execution_count": null,
   "id": "5a67dbe6",
   "metadata": {},
   "outputs": [],
   "source": [
    "# Let's delete the content first!\n",
    "s3client.delete_object(Bucket = aws_bucket, Key = object_name)"
   ]
  },
  {
   "cell_type": "code",
   "execution_count": null,
   "id": "9ce6ce4a",
   "metadata": {},
   "outputs": [],
   "source": [
    "# Let's try deleting that bucket again\n",
    "s3client.delete_bucket(Bucket=aws_bucket)"
   ]
  },
  {
   "cell_type": "code",
   "execution_count": null,
   "id": "980b6dc3",
   "metadata": {},
   "outputs": [],
   "source": []
  }
 ],
 "metadata": {
  "kernelspec": {
   "display_name": "Python 3 (ipykernel)",
   "language": "python",
   "name": "python3"
  },
  "language_info": {
   "codemirror_mode": {
    "name": "ipython",
    "version": 3
   },
   "file_extension": ".py",
   "mimetype": "text/x-python",
   "name": "python",
   "nbconvert_exporter": "python",
   "pygments_lexer": "ipython3",
   "version": "3.9.7"
  }
 },
 "nbformat": 4,
 "nbformat_minor": 5
}
