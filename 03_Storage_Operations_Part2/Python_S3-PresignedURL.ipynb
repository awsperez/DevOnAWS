{
 "cells": [
  {
   "cell_type": "code",
   "execution_count": null,
   "id": "da0c57aa",
   "metadata": {},
   "outputs": [],
   "source": [
    "# Wilmar Perez\n",
    "\n",
    "# Import the Python AWS SDK\n",
    "# https://boto3.amazonaws.com/v1/documentation/api/latest/reference/core/boto3.html\n",
    "\n",
    "import boto3\n",
    "import os"
   ]
  },
  {
   "cell_type": "code",
   "execution_count": null,
   "id": "d5a5e41d",
   "metadata": {},
   "outputs": [],
   "source": [
    "## config\n",
    "\n",
    "aws_profile = 'LOCAL_PROFILE'\n",
    "aws_service = 's3'\n",
    "aws_bucket = 'RANDOM_BUCKET_NAME'\n",
    "local_picture_to_share = 'doggy.jpeg'\n",
    "object_name = 'doggy.jpeg'\n",
    "expiration_time_for_url = 60"
   ]
  },
  {
   "cell_type": "code",
   "execution_count": null,
   "id": "05a7b621",
   "metadata": {},
   "outputs": [],
   "source": [
    "# We need a new session in order to use a profile different to the Default one\n",
    "session = boto3.Session(profile_name = aws_profile)"
   ]
  },
  {
   "cell_type": "code",
   "execution_count": null,
   "id": "f1d3806e",
   "metadata": {},
   "outputs": [],
   "source": [
    "# Create resource and client\n",
    "s3Resource = session.resource(aws_service)\n",
    "s3client = session.client(aws_service)"
   ]
  },
  {
   "cell_type": "code",
   "execution_count": null,
   "id": "f3d51659",
   "metadata": {},
   "outputs": [],
   "source": [
    "# Let's create a bucket\n",
    "s3Resource.Bucket(aws_bucket).create(\n",
    "    CreateBucketConfiguration={\n",
    "        'LocationConstraint': session.region_name\n",
    "    }\n",
    ")"
   ]
  },
  {
   "cell_type": "code",
   "execution_count": null,
   "id": "cdb85a76",
   "metadata": {},
   "outputs": [],
   "source": [
    "# Let's upload a file\n",
    "with open(local_picture_to_share, \"rb\") as file:\n",
    "    s3client.upload_fileobj(file, aws_bucket, object_name)"
   ]
  },
  {
   "cell_type": "code",
   "execution_count": null,
   "id": "ece27248",
   "metadata": {},
   "outputs": [],
   "source": [
    "# Was the file uploaded?\n",
    "s3client.head_object(Bucket = aws_bucket, Key = object_name)"
   ]
  },
  {
   "cell_type": "code",
   "execution_count": null,
   "id": "44e09121",
   "metadata": {},
   "outputs": [],
   "source": [
    "try:\n",
    "    url = s3client.generate_presigned_url(\n",
    "        'get_object',\n",
    "            Params={'Bucket': aws_bucket,\n",
    "                    'Key': object_name},\n",
    "                    ExpiresIn=expiration_time_for_url)\n",
    "    print(url)\n",
    "except ClientError as e:\n",
    "        print(e)"
   ]
  },
  {
   "cell_type": "code",
   "execution_count": null,
   "id": "7f9299ef",
   "metadata": {},
   "outputs": [],
   "source": [
    "## Let's generate a signed URL from the CLI as well"
   ]
  },
  {
   "cell_type": "code",
   "execution_count": null,
   "id": "f62f9772",
   "metadata": {},
   "outputs": [],
   "source": [
    "# Let's delete the content first!\n",
    "s3client.delete_object(Bucket = aws_bucket, Key = object_name)"
   ]
  },
  {
   "cell_type": "code",
   "execution_count": null,
   "id": "e5e10dd2",
   "metadata": {},
   "outputs": [],
   "source": [
    "# Let's delete the bucket\n",
    "s3client.delete_bucket(Bucket=aws_bucket)"
   ]
  }
 ],
 "metadata": {
  "kernelspec": {
   "display_name": "Python 3 (ipykernel)",
   "language": "python",
   "name": "python3"
  },
  "language_info": {
   "codemirror_mode": {
    "name": "ipython",
    "version": 3
   },
   "file_extension": ".py",
   "mimetype": "text/x-python",
   "name": "python",
   "nbconvert_exporter": "python",
   "pygments_lexer": "ipython3",
   "version": "3.9.7"
  }
 },
 "nbformat": 4,
 "nbformat_minor": 5
}
