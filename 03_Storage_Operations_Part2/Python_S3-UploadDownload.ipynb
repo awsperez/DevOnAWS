{
 "cells": [
  {
   "cell_type": "code",
   "execution_count": null,
   "id": "da0c57aa",
   "metadata": {},
   "outputs": [],
   "source": [
    "# Wilmar Perez\n",
    "\n",
    "# Import the Python AWS SDK\n",
    "# https://boto3.amazonaws.com/v1/documentation/api/latest/reference/core/boto3.html\n",
    "\n",
    "import boto3\n",
    "import os"
   ]
  },
  {
   "cell_type": "code",
   "execution_count": null,
   "id": "d5a5e41d",
   "metadata": {},
   "outputs": [],
   "source": [
    "## config\n",
    "\n",
    "aws_profile = 'LOCAL_PROFILE'\n",
    "aws_service = 's3'\n",
    "aws_bucket = 'RANDOM_BUCKET_NAME'\n",
    "file2upload = 'uploadmeplease.txt'\n",
    "object_name = 'filejustuploaded.txt'"
   ]
  },
  {
   "cell_type": "code",
   "execution_count": null,
   "id": "05a7b621",
   "metadata": {},
   "outputs": [],
   "source": [
    "# We need a new session in order to use a profile different to the Default one\n",
    "session = boto3.Session(profile_name = aws_profile)"
   ]
  },
  {
   "cell_type": "code",
   "execution_count": null,
   "id": "f1d3806e",
   "metadata": {},
   "outputs": [],
   "source": [
    "# Create resource and client\n",
    "s3Resource = session.resource(aws_service)\n",
    "s3client = session.client(aws_service)"
   ]
  },
  {
   "cell_type": "code",
   "execution_count": null,
   "id": "f3d51659",
   "metadata": {},
   "outputs": [],
   "source": [
    "# Let's create a bucket\n",
    "s3Resource.Bucket(aws_bucket).create(\n",
    "    CreateBucketConfiguration={\n",
    "        'LocationConstraint': session.region_name\n",
    "    }\n",
    ")"
   ]
  },
  {
   "cell_type": "code",
   "execution_count": null,
   "id": "7c603e12",
   "metadata": {},
   "outputs": [],
   "source": [
    "# Does the bucket exist?\n",
    "s3client.head_bucket(Bucket = aws_bucket)"
   ]
  },
  {
   "cell_type": "code",
   "execution_count": null,
   "id": "cdb85a76",
   "metadata": {},
   "outputs": [],
   "source": [
    "# Let's upload a file\n",
    "with open(file2upload, \"rb\") as file:\n",
    "    s3client.upload_fileobj(file, aws_bucket, 'Michal/' + object_name)"
   ]
  },
  {
   "cell_type": "code",
   "execution_count": null,
   "id": "ece27248",
   "metadata": {},
   "outputs": [],
   "source": [
    "# Was the file uploaded?\n",
    "s3client.head_object(Bucket = aws_bucket, Key = object_name)"
   ]
  },
  {
   "cell_type": "code",
   "execution_count": null,
   "id": "79e559c0",
   "metadata": {},
   "outputs": [],
   "source": [
    "# Let's download the object:\n",
    "object_downloaded = s3client.get_object(Bucket = aws_bucket, Key = object_name)"
   ]
  },
  {
   "cell_type": "code",
   "execution_count": null,
   "id": "e51709e1",
   "metadata": {},
   "outputs": [],
   "source": [
    "# What do we get?\n",
    "type(object_downloaded)"
   ]
  },
  {
   "cell_type": "code",
   "execution_count": null,
   "id": "0fbc2476",
   "metadata": {},
   "outputs": [],
   "source": [
    "# what is the content?\n",
    "object_downloaded"
   ]
  },
  {
   "cell_type": "code",
   "execution_count": null,
   "id": "ca8a0709",
   "metadata": {},
   "outputs": [],
   "source": [
    "# How dow I get the actual content?\n",
    "object_downloaded.get(\"Body\").read().decode('utf-8')"
   ]
  },
  {
   "cell_type": "code",
   "execution_count": null,
   "id": "fea1854f",
   "metadata": {},
   "outputs": [],
   "source": [
    "# Ok, now le's delete that bucket we do not need anymore\n",
    "s3client.delete_bucket(Bucket=aws_bucket)"
   ]
  },
  {
   "cell_type": "code",
   "execution_count": null,
   "id": "5a67dbe6",
   "metadata": {},
   "outputs": [],
   "source": [
    "# Let's delete the content first!\n",
    "s3client.delete_object(Bucket = aws_bucket, Key = 'Michal/' + object_name)"
   ]
  },
  {
   "cell_type": "code",
   "execution_count": null,
   "id": "9ce6ce4a",
   "metadata": {},
   "outputs": [],
   "source": [
    "# Let's try deleting that bucket again\n",
    "s3client.delete_bucket(Bucket=aws_bucket)"
   ]
  },
  {
   "cell_type": "code",
   "execution_count": null,
   "id": "71d815f3",
   "metadata": {},
   "outputs": [],
   "source": [
    "# Does the bucket exist?\n",
    "s3client.head_bucket(Bucket=aws_bucket)"
   ]
  }
 ],
 "metadata": {
  "kernelspec": {
   "display_name": "Python 3 (ipykernel)",
   "language": "python",
   "name": "python3"
  },
  "language_info": {
   "codemirror_mode": {
    "name": "ipython",
    "version": 3
   },
   "file_extension": ".py",
   "mimetype": "text/x-python",
   "name": "python",
   "nbconvert_exporter": "python",
   "pygments_lexer": "ipython3",
   "version": "3.9.7"
  }
 },
 "nbformat": 4,
 "nbformat_minor": 5
}
