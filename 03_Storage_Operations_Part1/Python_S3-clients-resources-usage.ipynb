{
 "cells": [
  {
   "cell_type": "code",
   "execution_count": null,
   "id": "da0c57aa",
   "metadata": {},
   "outputs": [],
   "source": [
    "# Wilmar Perez\n",
    "\n",
    "# Import the Python AWS SDK\n",
    "# https://boto3.amazonaws.com/v1/documentation/api/latest/reference/core/boto3.html\n",
    "\n",
    "import boto3.s3"
   ]
  },
  {
   "cell_type": "code",
   "execution_count": null,
   "id": "d0f999cb",
   "metadata": {},
   "outputs": [],
   "source": [
    "# Naive function to check if a bucket exists\n",
    "def checkIfBucketExists(aws_bucket):\n",
    "    if aws_bucket in [bucket.name for bucket in s3Resource.buckets.all()]:\n",
    "        print(\"Bucket {} exists!\".format(aws_bucket))\n",
    "    else:\n",
    "        print(\"Sorry, that bucket is nowhere to be found\")"
   ]
  },
  {
   "cell_type": "code",
   "execution_count": null,
   "id": "d5a5e41d",
   "metadata": {},
   "outputs": [],
   "source": [
    "## config\n",
    "\n",
    "aws_profile = 'LOCAL_PROFILE'\n",
    "aws_service = 's3'\n",
    "aws_bucket = 'RANDOM_BUCKET_NAME'"
   ]
  },
  {
   "cell_type": "code",
   "execution_count": null,
   "id": "05a7b621",
   "metadata": {},
   "outputs": [],
   "source": [
    "# We need a new session in order to use a profile different to the Default one\n",
    "session = boto3.Session(profile_name = aws_profile)"
   ]
  },
  {
   "cell_type": "code",
   "execution_count": null,
   "id": "7d47203f",
   "metadata": {},
   "outputs": [],
   "source": [
    "# Then we define a resource\n",
    "s3Resource = session.resource(aws_service)"
   ]
  },
  {
   "cell_type": "code",
   "execution_count": null,
   "id": "f1d3806e",
   "metadata": {},
   "outputs": [],
   "source": [
    "# Define the name for the bucket\n",
    "bucket = s3Resource.Bucket(aws_bucket)"
   ]
  },
  {
   "cell_type": "code",
   "execution_count": null,
   "id": "f3d51659",
   "metadata": {},
   "outputs": [],
   "source": [
    "# Let's create a bucket\n",
    "bucket.create(\n",
    "    CreateBucketConfiguration={\n",
    "        'LocationConstraint': session.region_name\n",
    "    }\n",
    ")"
   ]
  },
  {
   "cell_type": "code",
   "execution_count": null,
   "id": "0845ffe5",
   "metadata": {},
   "outputs": [],
   "source": [
    "# Does the bucket exist? -- Naive method\n",
    "checkIfBucketExists(aws_bucket)"
   ]
  },
  {
   "cell_type": "code",
   "execution_count": null,
   "id": "e9269863",
   "metadata": {},
   "outputs": [],
   "source": [
    "# Now.  What can we do if we have a client?\n",
    "s3client = session.client(aws_service)"
   ]
  },
  {
   "cell_type": "code",
   "execution_count": null,
   "id": "7c603e12",
   "metadata": {},
   "outputs": [],
   "source": [
    "# Does the bucket exist? -- smart method\n",
    "s3client.head_bucket(Bucket=aws_bucket)"
   ]
  },
  {
   "cell_type": "code",
   "execution_count": null,
   "id": "9ce6ce4a",
   "metadata": {},
   "outputs": [],
   "source": [
    "# And now we want to delete the bucket\n",
    "s3client.delete_bucket(Bucket=aws_bucket)"
   ]
  },
  {
   "cell_type": "code",
   "execution_count": null,
   "id": "5402c6eb",
   "metadata": {},
   "outputs": [],
   "source": [
    "# Does the bucket exist? -- Naive method\n",
    "checkIfBucketExists(aws_bucket)"
   ]
  },
  {
   "cell_type": "code",
   "execution_count": null,
   "id": "71d815f3",
   "metadata": {},
   "outputs": [],
   "source": [
    "# Does the bucket exist? -- smart method\n",
    "s3client.head_bucket(Bucket=aws_bucket)"
   ]
  }
 ],
 "metadata": {
  "kernelspec": {
   "display_name": "Python 3 (ipykernel)",
   "language": "python",
   "name": "python3"
  },
  "language_info": {
   "codemirror_mode": {
    "name": "ipython",
    "version": 3
   },
   "file_extension": ".py",
   "mimetype": "text/x-python",
   "name": "python",
   "nbconvert_exporter": "python",
   "pygments_lexer": "ipython3",
   "version": "3.9.7"
  }
 },
 "nbformat": 4,
 "nbformat_minor": 5
}
