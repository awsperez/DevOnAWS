{
 "cells": [
  {
   "cell_type": "code",
   "execution_count": null,
   "id": "da0c57aa",
   "metadata": {},
   "outputs": [],
   "source": [
    "# Wilmar Perez\n",
    "\n",
    "# Import the Python AWS SDK\n",
    "# https://boto3.amazonaws.com/v1/documentation/api/latest/reference/core/boto3.html\n",
    "\n",
    "import boto3\n",
    "from boto3.dynamodb.conditions import Key\n",
    "from pprint import pprint\n",
    "from decimal import Decimal\n",
    "import json"
   ]
  },
  {
   "cell_type": "code",
   "execution_count": null,
   "id": "fbdb49f0",
   "metadata": {},
   "outputs": [],
   "source": [
    "# Create Table\n",
    "def create_movie_table(table_name='Movies'):\n",
    "\n",
    "    table = dynamodb_resource.create_table(\n",
    "        TableName=table_name,\n",
    "        KeySchema=[\n",
    "            {\n",
    "                'AttributeName': 'year',\n",
    "                'KeyType': 'HASH'  # Partition key\n",
    "            },\n",
    "            {\n",
    "                'AttributeName': 'title',\n",
    "                'KeyType': 'RANGE'  # Sort key\n",
    "            }\n",
    "        ],\n",
    "        AttributeDefinitions=[\n",
    "            {\n",
    "                'AttributeName': 'year',\n",
    "                'AttributeType': 'N'\n",
    "            },\n",
    "            {\n",
    "                'AttributeName': 'title',\n",
    "                'AttributeType': 'S'\n",
    "            },\n",
    "\n",
    "        ],\n",
    "        ProvisionedThroughput={\n",
    "            'ReadCapacityUnits': 10,\n",
    "            'WriteCapacityUnits': 10\n",
    "        }\n",
    "    )\n",
    "    return table"
   ]
  },
  {
   "cell_type": "code",
   "execution_count": null,
   "id": "b5ebd71f",
   "metadata": {},
   "outputs": [],
   "source": [
    "# Add data (one movie)\n",
    "def put_movie(title, year, plot, rating, table_name='Movies'):\n",
    "\n",
    "    table = dynamodb_resource.Table(table_name)\n",
    "    response = table.put_item(\n",
    "       Item={\n",
    "            'year': year,\n",
    "            'title': title,\n",
    "            'info': {\n",
    "                'plot': plot,\n",
    "                'rating': rating\n",
    "            }\n",
    "        }\n",
    "    )\n",
    "    return response"
   ]
  },
  {
   "cell_type": "code",
   "execution_count": null,
   "id": "aaa84b6e",
   "metadata": {},
   "outputs": [],
   "source": [
    "# Add data (in bulk)\n",
    "def load_movies(movies, table_name='Movies'):\n",
    "\n",
    "    table = dynamodb_resource.Table(table_name)\n",
    "    for movie in movies:\n",
    "        year = int(movie['year'])\n",
    "        title = movie['title']\n",
    "        print(\"Adding movie:\", year, title)\n",
    "        table.put_item(Item=movie)"
   ]
  },
  {
   "cell_type": "code",
   "execution_count": null,
   "id": "f71f4c19",
   "metadata": {},
   "outputs": [],
   "source": [
    "def query_movies_by_year(year, table_name='Movies'):\n",
    "\n",
    "    table = dynamodb_resource.Table(table_name)\n",
    "    response = table.query(\n",
    "        KeyConditionExpression=Key('year').eq(year)\n",
    "    )\n",
    "    return response['Items']"
   ]
  },
  {
   "cell_type": "code",
   "execution_count": null,
   "id": "d5a5e41d",
   "metadata": {},
   "outputs": [],
   "source": [
    "## config\n",
    "\n",
    "aws_profile = 'LOCAL_PROFILE'\n",
    "aws_service = 'dynamodb'\n",
    "\n",
    "# Note that the db is equivalent to the table\n",
    "my_table = 'DB_NAME'\n",
    "\n",
    "# JSON with movies\n",
    "json_file_with_movies_data = 'moviedata.json'"
   ]
  },
  {
   "cell_type": "code",
   "execution_count": null,
   "id": "05a7b621",
   "metadata": {},
   "outputs": [],
   "source": [
    "# We need a new session in order to use a profile different to the Default one\n",
    "session = boto3.Session(profile_name = aws_profile)"
   ]
  },
  {
   "cell_type": "code",
   "execution_count": null,
   "id": "f1d3806e",
   "metadata": {},
   "outputs": [],
   "source": [
    "# Create resource and client\n",
    "dynamodb_resource = session.resource(aws_service)\n",
    "dynamodb_client = session.client(aws_service)"
   ]
  },
  {
   "cell_type": "code",
   "execution_count": null,
   "id": "e24ce9f2",
   "metadata": {},
   "outputs": [],
   "source": [
    "# Let's review what tables (databases) we have\n",
    "for table in dynamodb_resource.tables.all():\n",
    "    print(table.name)"
   ]
  },
  {
   "cell_type": "code",
   "execution_count": null,
   "id": "4442e88a",
   "metadata": {},
   "outputs": [],
   "source": [
    "# Let's create our database\n",
    "movie_table = create_movie_table(table_name = my_table)"
   ]
  },
  {
   "cell_type": "code",
   "execution_count": null,
   "id": "b60bced7",
   "metadata": {
    "scrolled": true
   },
   "outputs": [],
   "source": [
    "# Let's check the status of the database\n",
    "dynamodb_client.describe_table(TableName = my_table)"
   ]
  },
  {
   "cell_type": "code",
   "execution_count": null,
   "id": "c42c51c0",
   "metadata": {},
   "outputs": [],
   "source": [
    "# Let's review what tables (databases) we have again!\n",
    "for table in dynamodb_resource.tables.all():\n",
    "    print(table.name)"
   ]
  },
  {
   "cell_type": "code",
   "execution_count": null,
   "id": "c6425d5f",
   "metadata": {},
   "outputs": [],
   "source": [
    "# Let's add some data\n",
    "movie_resp = put_movie(\"The Big New Most Boring Movie\", 2022,\n",
    "                           \"Nothing happens at all.\", 0,\n",
    "                           table_name = my_table)"
   ]
  },
  {
   "cell_type": "code",
   "execution_count": null,
   "id": "3d06141f",
   "metadata": {},
   "outputs": [],
   "source": [
    "# Did it work?\n",
    "pprint(movie_resp, sort_dicts=False)"
   ]
  },
  {
   "cell_type": "code",
   "execution_count": null,
   "id": "ab96fe5f",
   "metadata": {},
   "outputs": [],
   "source": [
    "# Let's add some data again but this time around a lot of it\n",
    "with open(\"moviedata.json\") as json_file:\n",
    "    movie_list = json.load(json_file, parse_float=Decimal)\n",
    "    \n",
    "load_movies(movie_list, table_name = my_table)"
   ]
  },
  {
   "cell_type": "code",
   "execution_count": null,
   "id": "68446865",
   "metadata": {},
   "outputs": [],
   "source": [
    "# Let's query the DB\n",
    "\n",
    "query_year = 2010\n",
    "print(\"Movies from {}\".format(query_year))\n",
    "movies = query_movies_by_year(query_year, table_name = my_table)\n",
    "\n",
    "for movie in movies:\n",
    "    print(movie['year'], \":\", movie['title'])\n",
    "    # print(movie)\n"
   ]
  },
  {
   "cell_type": "code",
   "execution_count": null,
   "id": "9c0b0dbf",
   "metadata": {},
   "outputs": [],
   "source": [
    "# Now, let's be evil and delete that table!\n",
    "movie_table.delete()"
   ]
  }
 ],
 "metadata": {
  "kernelspec": {
   "display_name": "Python 3 (ipykernel)",
   "language": "python",
   "name": "python3"
  },
  "language_info": {
   "codemirror_mode": {
    "name": "ipython",
    "version": 3
   },
   "file_extension": ".py",
   "mimetype": "text/x-python",
   "name": "python",
   "nbconvert_exporter": "python",
   "pygments_lexer": "ipython3",
   "version": "3.9.7"
  }
 },
 "nbformat": 4,
 "nbformat_minor": 5
}
