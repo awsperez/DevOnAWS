{
 "cells": [
  {
   "cell_type": "code",
   "execution_count": null,
   "id": "da0c57aa",
   "metadata": {},
   "outputs": [],
   "source": [
    "# Wilmar Perez\n",
    "\n",
    "# Import the Python AWS SDK\n",
    "# https://boto3.amazonaws.com/v1/documentation/api/latest/reference/core/boto3.html\n",
    "\n",
    "import boto3"
   ]
  },
  {
   "cell_type": "code",
   "execution_count": null,
   "id": "d5a5e41d",
   "metadata": {},
   "outputs": [],
   "source": [
    "## config\n",
    "\n",
    "aws_profile = 'LOCAL_PROFILE'\n",
    "aws_service = 'dynamodb'\n",
    "\n",
    "# Note that the db is equivalent to the table\n",
    "table_name = 'DB_NAME'"
   ]
  },
  {
   "cell_type": "code",
   "execution_count": null,
   "id": "05a7b621",
   "metadata": {},
   "outputs": [],
   "source": [
    "# We need a new session in order to use a profile different to the Default one\n",
    "session = boto3.Session(profile_name = aws_profile)"
   ]
  },
  {
   "cell_type": "code",
   "execution_count": null,
   "id": "f1d3806e",
   "metadata": {},
   "outputs": [],
   "source": [
    "# Create resource and client\n",
    "dynamodb_resource = session.resource(aws_service)\n",
    "dynamodb_client = session.client(aws_service)"
   ]
  },
  {
   "cell_type": "code",
   "execution_count": null,
   "id": "f3d51659",
   "metadata": {},
   "outputs": [],
   "source": [
    "# Let's create a dynamoDB table\n",
    "\n",
    "movie_table = dynamodb_resource.create_table(\n",
    "        TableName=table_name,\n",
    "        KeySchema=[\n",
    "            {\n",
    "                'AttributeName': 'year',\n",
    "                'KeyType': 'HASH'  # Partition key\n",
    "            },\n",
    "            {\n",
    "                'AttributeName': 'title',\n",
    "                'KeyType': 'RANGE'  # Sort key\n",
    "            }\n",
    "        ],\n",
    "        AttributeDefinitions=[\n",
    "            {\n",
    "                'AttributeName': 'year',\n",
    "                'AttributeType': 'N'\n",
    "            },\n",
    "            {\n",
    "                'AttributeName': 'title',\n",
    "                'AttributeType': 'S'\n",
    "            },\n",
    "\n",
    "        ],\n",
    "        ProvisionedThroughput={\n",
    "            'ReadCapacityUnits': 10,\n",
    "            'WriteCapacityUnits': 10\n",
    "        }\n",
    "    )"
   ]
  },
  {
   "cell_type": "code",
   "execution_count": null,
   "id": "53c58a15",
   "metadata": {},
   "outputs": [],
   "source": [
    "# Let's check the status of the table\n",
    "dynamodb_client.describe_table(TableName=table_name)"
   ]
  },
  {
   "cell_type": "code",
   "execution_count": null,
   "id": "969fb6a5",
   "metadata": {},
   "outputs": [],
   "source": [
    "# Now, let's be evil and delete that table!\n",
    "movie_table.delete()"
   ]
  },
  {
   "cell_type": "code",
   "execution_count": null,
   "id": "05fb9431",
   "metadata": {},
   "outputs": [],
   "source": [
    "# Let's check the status now\n",
    "dynamodb_client.describe_table(TableName=table_name)"
   ]
  }
 ],
 "metadata": {
  "kernelspec": {
   "display_name": "Python 3 (ipykernel)",
   "language": "python",
   "name": "python3"
  },
  "language_info": {
   "codemirror_mode": {
    "name": "ipython",
    "version": 3
   },
   "file_extension": ".py",
   "mimetype": "text/x-python",
   "name": "python",
   "nbconvert_exporter": "python",
   "pygments_lexer": "ipython3",
   "version": "3.9.7"
  }
 },
 "nbformat": 4,
 "nbformat_minor": 5
}
