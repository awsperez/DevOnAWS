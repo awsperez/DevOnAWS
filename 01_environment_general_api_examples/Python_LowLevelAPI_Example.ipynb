{
 "cells": [
  {
   "cell_type": "code",
   "execution_count": null,
   "id": "293123ce",
   "metadata": {},
   "outputs": [],
   "source": [
    "# Wilmar Perez\n",
    "\n",
    "# Import the Python AWS SDK\n",
    "# https://boto3.amazonaws.com/v1/documentation/api/latest/reference/core/boto3.html\n",
    "\n",
    "import boto3"
   ]
  },
  {
   "cell_type": "code",
   "execution_count": null,
   "id": "28bf7359",
   "metadata": {},
   "outputs": [],
   "source": [
    "# config\n",
    "# Replace LOCAL_PROFILE, AN_EXISTING_BUCKET  with valid values \n",
    "\n",
    "aws_profile = 'LOCAL_PROFILE'\n",
    "aws_service = 's3'\n",
    "aws_bucket = 'AN_EXISTING_BUCKET'"
   ]
  },
  {
   "cell_type": "code",
   "execution_count": null,
   "id": "72eb64f7",
   "metadata": {},
   "outputs": [],
   "source": [
    "# Reference\n",
    "# https://boto3.amazonaws.com/v1/documentation/api/latest/reference/services/s3.html#S3.Client.list_objects_v2\n",
    "\n",
    "# We are using a Client\n",
    "\n",
    "def getBucketInfo(aws_profile, aws_service, aws_bucket):\n",
    "    session = boto3.Session(profile_name = aws_profile)\n",
    "    s3client = session.client(aws_service)\n",
    "    response = s3client.list_objects_v2(Bucket = aws_bucket)\n",
    "    return response"
   ]
  },
  {
   "cell_type": "code",
   "execution_count": null,
   "id": "81284003",
   "metadata": {},
   "outputs": [],
   "source": [
    "# Aux function to print out the content\n",
    "\n",
    "def printOutList(list2print, key, value):\n",
    "    for item in list2print:\n",
    "        print(item[key], item[value])"
   ]
  },
  {
   "cell_type": "code",
   "execution_count": null,
   "id": "b174ad84",
   "metadata": {},
   "outputs": [],
   "source": [
    "# Let's get our bucket infor\n",
    "bucketInfo = getBucketInfo(aws_profile, aws_service, aws_bucket)"
   ]
  },
  {
   "cell_type": "code",
   "execution_count": null,
   "id": "b83e4641",
   "metadata": {},
   "outputs": [],
   "source": [
    "# What is inside the response?\n",
    "bucketInfo"
   ]
  },
  {
   "cell_type": "code",
   "execution_count": null,
   "id": "1754544e",
   "metadata": {},
   "outputs": [],
   "source": [
    "# Let's print out the content of the bucket\n",
    "\n",
    "printOutList(bucketInfo['Contents'], 'Key', 'LastModified')"
   ]
  },
  {
   "cell_type": "code",
   "execution_count": null,
   "id": "be9ba8df",
   "metadata": {},
   "outputs": [],
   "source": []
  }
 ],
 "metadata": {
  "kernelspec": {
   "display_name": "Python 3 (ipykernel)",
   "language": "python",
   "name": "python3"
  },
  "language_info": {
   "codemirror_mode": {
    "name": "ipython",
    "version": 3
   },
   "file_extension": ".py",
   "mimetype": "text/x-python",
   "name": "python",
   "nbconvert_exporter": "python",
   "pygments_lexer": "ipython3",
   "version": "3.9.7"
  },
  "vscode": {
   "interpreter": {
    "hash": "042f25125866d1c440081fb300d0b619b140dd32422493340753a02c262a4006"
   }
  }
 },
 "nbformat": 4,
 "nbformat_minor": 5
}
